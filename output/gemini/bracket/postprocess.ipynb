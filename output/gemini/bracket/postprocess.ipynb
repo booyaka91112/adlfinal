{
 "cells": [
  {
   "cell_type": "code",
   "execution_count": 1,
   "metadata": {},
   "outputs": [],
   "source": [
    "import pandas as pd"
   ]
  },
  {
   "cell_type": "markdown",
   "metadata": {},
   "source": [
    "# remove bracket test sentence level"
   ]
  },
  {
   "cell_type": "code",
   "execution_count": 7,
   "metadata": {},
   "outputs": [],
   "source": [
    "for file in [\"vanilla_sentence_40_bracket.json\", \"3_shot_sentence_40_bracket.json\", \"6_shot_sentence_40_bracket.json\"]:\n",
    "    df = pd.read_json(file)\n",
    "    df['mt'] = df.apply(lambda row: row['mt'].replace(\"{\", \"\").replace(\"}\", \"\"), axis=1)\n",
    "    df['ref'] = df.apply(lambda row: row['ref'].replace(\"{\", \"\").replace(\"}\", \"\"), axis=1)\n",
    "    df.to_json(file.split(\".\")[0] + \"_remove_bracket.json\", orient='records', force_ascii=False)"
   ]
  },
  {
   "cell_type": "markdown",
   "metadata": {},
   "source": [
    "# extact terminlogy from sentence "
   ]
  },
  {
   "cell_type": "code",
   "execution_count": 9,
   "metadata": {},
   "outputs": [],
   "source": [
    "import regex as re"
   ]
  },
  {
   "cell_type": "code",
   "execution_count": 18,
   "metadata": {},
   "outputs": [
    {
     "data": {
      "text/plain": [
       "'Thành phố Đài Bắc'"
      ]
     },
     "execution_count": 18,
     "metadata": {},
     "output_type": "execute_result"
    }
   ],
   "source": [
    "re.search(r'\\{(.*?)\\}', \"Tôi đến từ {Thành phố Đài Bắc}.\").group(0)[1:-1]"
   ]
  },
  {
   "cell_type": "code",
   "execution_count": 26,
   "metadata": {},
   "outputs": [],
   "source": [
    "for file in [\"vanilla_sentence_40_bracket.json\", \"3_shot_sentence_40_bracket.json\", \"6_shot_sentence_40_bracket.json\"]:\n",
    "    df = pd.read_json(file)\n",
    "    df['mt'] = df.apply(lambda row: re.search(r'\\{(.*?)\\}', row['mt']), axis=1)\n",
    "    df['mt'] = df.apply(lambda row: row['mt'].group(0)[1:-1] if row['mt'] != None else \"\", axis=1)\n",
    "    df['ref'] = df.apply(lambda row: re.search(r'\\{(.*?)\\}', row['ref']), axis=1)\n",
    "    df['ref'] = df.apply(lambda row: row['ref'].group(0)[1:-1] if row['ref'] != None else \"\", axis=1)\n",
    "    df.to_json(file.split(\".\")[0] + \"_term_level.json\", orient='records', force_ascii=False)"
   ]
  }
 ],
 "metadata": {
  "kernelspec": {
   "display_name": "ADL_hw3",
   "language": "python",
   "name": "python3"
  },
  "language_info": {
   "codemirror_mode": {
    "name": "ipython",
    "version": 3
   },
   "file_extension": ".py",
   "mimetype": "text/x-python",
   "name": "python",
   "nbconvert_exporter": "python",
   "pygments_lexer": "ipython3",
   "version": "3.9.18"
  }
 },
 "nbformat": 4,
 "nbformat_minor": 2
}
